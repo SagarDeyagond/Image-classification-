{
 "cells": [
  {
   "cell_type": "code",
   "execution_count": 4,
   "metadata": {},
   "outputs": [],
   "source": [
    "# Read the Ground truth files \n",
    "import csv\n",
    "with open('./GTVals.csv', mode='r') as infile:\n",
    "    reader = csv.reader(infile)\n",
    "    mydictGT = {rows[0]:rows[1] for rows in reader}"
   ]
  },
  {
   "cell_type": "code",
   "execution_count": 5,
   "metadata": {},
   "outputs": [
    {
     "name": "stdout",
     "output_type": "stream",
     "text": [
      "{'2': 'category1', '7': 'category4', '1': 'category1', '6': 'category2', '5': 'category2', '3': 'category3', '4': 'category3', '8': 'category4'}\n"
     ]
    }
   ],
   "source": [
    "mydictGT.pop('imageName')\n",
    "print(mydictGT)"
   ]
  },
  {
   "cell_type": "code",
   "execution_count": 6,
   "metadata": {},
   "outputs": [
    {
     "name": "stdout",
     "output_type": "stream",
     "text": [
      "{'1': 'category1', '2': 'category1', '7': 'category4', '5': 'category3', '6': 'category3', '3': 'category3', '4': 'category3', '8': 'category4'}\n"
     ]
    }
   ],
   "source": [
    "# Read the Prediction files\n",
    "with open('./PredictionVals.csv', mode='r') as infile:\n",
    "    reader = csv.reader(infile)\n",
    "    mydictPredict = {rows[0]:rows[1] for rows in reader}\n",
    "  \n",
    "mydictPredict.pop('imagename')\n",
    "print(mydictPredict)\n",
    "    "
   ]
  },
  {
   "cell_type": "code",
   "execution_count": 7,
   "metadata": {},
   "outputs": [
    {
     "name": "stdout",
     "output_type": "stream",
     "text": [
      "OrderedDict([('1', 'category1'), ('2', 'category1'), ('3', 'category3'), ('4', 'category3'), ('5', 'category2'), ('6', 'category2'), ('7', 'category4'), ('8', 'category4')])\n",
      "OrderedDict([('1', 'category1'), ('2', 'category1'), ('3', 'category3'), ('4', 'category3'), ('5', 'category3'), ('6', 'category3'), ('7', 'category4'), ('8', 'category4')])\n"
     ]
    }
   ],
   "source": [
    "# Covert the dictonary info into ordered info \n",
    "\n",
    "from sklearn.metrics import confusion_matrix, f1_score,accuracy_score\n",
    "from collections import OrderedDict\n",
    "\n",
    "odOriginalGTValues=OrderedDict(sorted(mydictGT.items()))\n",
    "odModelPredictValues=OrderedDict(sorted(mydictPredict.items()))\n",
    "\n",
    "print(odOriginalGTValues)\n",
    "print(odModelPredictValues)\n",
    "\n"
   ]
  },
  {
   "cell_type": "code",
   "execution_count": 8,
   "metadata": {},
   "outputs": [
    {
     "name": "stdout",
     "output_type": "stream",
     "text": [
      "['category1', 'category1', 'category3', 'category3', 'category2', 'category2', 'category4', 'category4']\n",
      "['category1', 'category1', 'category3', 'category3', 'category3', 'category3', 'category4', 'category4']\n"
     ]
    }
   ],
   "source": [
    "# Get the list of GT and Prediction values in a list for evaluation\n",
    "GT=[]\n",
    "Prediction=[]\n",
    "for i,j  in zip(odOriginalGTValues ,odModelPredictValues ):\n",
    "    GT.append(odOriginalGTValues[i])\n",
    "    Prediction.append(odModelPredictValues[j])\n",
    "print(GT)\n",
    "print(Prediction)"
   ]
  },
  {
   "cell_type": "code",
   "execution_count": 9,
   "metadata": {},
   "outputs": [
    {
     "data": {
      "text/plain": [
       "array([[2, 0, 0, 0],\n",
       "       [0, 0, 2, 0],\n",
       "       [0, 0, 2, 0],\n",
       "       [0, 0, 0, 2]])"
      ]
     },
     "execution_count": 9,
     "metadata": {},
     "output_type": "execute_result"
    }
   ],
   "source": [
    "confusion_matrix(GT, Prediction, labels=[\"category1\", \"category2\", \"category3\",\"category4\"])"
   ]
  },
  {
   "cell_type": "code",
   "execution_count": 10,
   "metadata": {},
   "outputs": [
    {
     "name": "stdout",
     "output_type": "stream",
     "text": [
      "F1_score:: 0.6666666666666666\n",
      "Accuracy:: 0.75\n"
     ]
    },
    {
     "name": "stderr",
     "output_type": "stream",
     "text": [
      "/usr/local/lib/python3.5/dist-packages/sklearn/metrics/classification.py:1437: UndefinedMetricWarning: F-score is ill-defined and being set to 0.0 in labels with no predicted samples.\n",
      "  'precision', 'predicted', average, warn_for)\n"
     ]
    }
   ],
   "source": [
    "# F1 and accuarcy score\n",
    "\n",
    "print('F1_score::',f1_score(GT, Prediction, average='macro'))\n",
    "\n",
    "\n",
    "print('Accuracy::',accuracy_score(GT, Prediction, normalize=True))"
   ]
  },
  {
   "cell_type": "code",
   "execution_count": null,
   "metadata": {},
   "outputs": [],
   "source": []
  }
 ],
 "metadata": {
  "kernelspec": {
   "display_name": "Python 3",
   "language": "python",
   "name": "python3"
  },
  "language_info": {
   "codemirror_mode": {
    "name": "ipython",
    "version": 3
   },
   "file_extension": ".py",
   "mimetype": "text/x-python",
   "name": "python",
   "nbconvert_exporter": "python",
   "pygments_lexer": "ipython3",
   "version": "3.5.2"
  }
 },
 "nbformat": 4,
 "nbformat_minor": 4
}
